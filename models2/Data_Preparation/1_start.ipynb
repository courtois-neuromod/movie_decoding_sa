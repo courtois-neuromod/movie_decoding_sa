{
 "cells": [
  {
   "cell_type": "code",
   "execution_count": null,
   "metadata": {},
   "outputs": [],
   "source": [
    "from load_confounds import Params24\n",
    "from nilearn.input_data import NiftiLabelsMasker\n",
    "import glob\n",
    "import numpy as np\n",
    "import cv2\n",
    "import os\n",
    "from tensorflow.keras.applications.vgg16 import VGG16\n",
    "from tensorflow.keras.preprocessing import image\n",
    "from tensorflow.keras.applications.vgg16 import preprocess_input, decode_predictions\n",
    "from keras.preprocessing.image import load_img\n",
    "import numpy as np\n",
    "import shutil\n",
    "from tensorflow.keras.models import Model\n",
    "import math"
   ]
  },
  {
   "cell_type": "markdown",
   "metadata": {},
   "source": [
    "## fMRI Data preparation"
   ]
  },
  {
   "cell_type": "code",
   "execution_count": null,
   "metadata": {},
   "outputs": [],
   "source": [
    "\n",
    "configfiles= configfiles = glob.glob('/home/sana4471/projects/rrg-pbellec/sana4471/movie_decoding_sa/data/friends/derivatives/fmriprep-20.1.0/fmriprep/sub-01/**/*preproc_bold.nii.gz', recursive=True)\n",
    "configfiles=sorted(configfiles)\n",
    "print('The number of nifty files:', len(configfiles))\n",
    "\n",
    "##########\n",
    "\n",
    "labels_img='MIST_444.nii.gz'\n",
    "\n",
    "###########\n",
    "\n",
    "\n",
    "fMRI_Data=fMRI_Data_pre(configfiles, labels_img)"
   ]
  },
  {
   "cell_type": "markdown",
   "metadata": {},
   "source": [
    "## Movie Data preparation"
   ]
  },
  {
   "cell_type": "code",
   "execution_count": null,
   "metadata": {},
   "outputs": [],
   "source": [
    "\n",
    "Video_path='/home/sana4471/projects/rrg-pbellec/sana4471/movie_decoding_sa/data/friends/stimuli/s1/*.mkv'\n",
    "movie_ses_1=sorted(glob.glob(Video_path) )\n",
    "print('The number of movie segments:', len(movie_ses_1))\n",
    "\n",
    "#############\n",
    "\n",
    "Video_path='/home/sana4471/projects/rrg-pbellec/sana4471/movie_decoding_sa/data/friends/stimuli/s2/*.mkv'\n",
    "movie_ses_2=sorted(glob.glob(Video_path) )\n",
    "print('The number of movie segments:', len(movie_ses_2))\n",
    "\n",
    "#############\n",
    "\n",
    "base_model=VGG16()\n",
    "base_model.summary()\n",
    "model = Model(inputs=base_model.input, outputs=base_model.get_layer('fc2').output)\n",
    "\n",
    "#############\n",
    "\n",
    "Movie_Data_ses1=Movie_Data_pre(movie_ses_1, model)\n",
    "Movie_Data_ses2=Movie_Data_pre(movie_ses_2, mpdel)\n"
   ]
  },
  {
   "cell_type": "markdown",
   "metadata": {},
   "source": [
    "## Frame Selaction "
   ]
  },
  {
   "cell_type": "code",
   "execution_count": null,
   "metadata": {},
   "outputs": [],
   "source": [
    "Movie_Data, count_selection=Frame_selection(Movie_Data_1, fMRI_Data)"
   ]
  },
  {
   "cell_type": "markdown",
   "metadata": {},
   "source": [
    "## HRF Delay"
   ]
  },
  {
   "cell_type": "code",
   "execution_count": null,
   "metadata": {},
   "outputs": [],
   "source": [
    "delays = [1,2,3,4]\n",
    "del_training_features = make_delayed(Movie_Data, delays)"
   ]
  }
 ],
 "metadata": {
  "kernelspec": {
   "display_name": "Python 3",
   "language": "python",
   "name": "python3"
  },
  "language_info": {
   "codemirror_mode": {
    "name": "ipython",
    "version": 3
   },
   "file_extension": ".py",
   "mimetype": "text/x-python",
   "name": "python",
   "nbconvert_exporter": "python",
   "pygments_lexer": "ipython3",
   "version": "3.7.3"
  }
 },
 "nbformat": 4,
 "nbformat_minor": 2
}
