{
 "cells": [
  {
   "cell_type": "code",
   "execution_count": 1,
   "metadata": {},
   "outputs": [],
   "source": [
    "import numpy as np\n",
    "import math\n",
    "import cv2\n",
    "\n",
    "import warnings\n",
    "warnings.filterwarnings('ignore')"
   ]
  },
  {
   "cell_type": "markdown",
   "metadata": {},
   "source": [
    "## fMRI Dataset (friends 2020-alpha2)"
   ]
  },
  {
   "cell_type": "code",
   "execution_count": 2,
   "metadata": {},
   "outputs": [
    {
     "name": "stdout",
     "output_type": "stream",
     "text": [
      "82\n",
      "(482, 444) (482, 444) (472, 444) (472, 444)\n",
      "(592, 444) (592, 444) (493, 444) (493, 444)\n",
      "###########################################################################\n",
      "(477, 444) (477, 444) (450, 444) (450, 444)\n",
      "(500, 444) (500, 444) (496, 444) (496, 444)\n"
     ]
    }
   ],
   "source": [
    "fMRI= np.load('/home/user/Desktop/Thesis/Backup/March6/CC_fMRI.npy', allow_pickle=True)\n",
    "print(len(fMRI)) #  17*2 (Season2) +  24*2(Season1)\n",
    "\n",
    "# Parcellation is based on MIST \n",
    "\n",
    "print(fMRI[0].shape, fMRI[1].shape,fMRI[2].shape, fMRI[3].shape)\n",
    "print(fMRI[10].shape, fMRI[11].shape,fMRI[12].shape, fMRI[13].shape)\n",
    "print('###########################################################################')\n",
    "print(fMRI[0+48].shape, fMRI[1+48].shape,fMRI[2+48].shape, fMRI[3+48].shape)\n",
    "print(fMRI[10+48].shape, fMRI[11+48].shape,fMRI[12+48].shape, fMRI[13+48].shape)\n",
    "\n"
   ]
  },
  {
   "cell_type": "markdown",
   "metadata": {},
   "source": [
    "## Frame Dataset (friends 2020-alpha2)"
   ]
  },
  {
   "cell_type": "code",
   "execution_count": 3,
   "metadata": {},
   "outputs": [
    {
     "data": {
      "text/plain": [
       "29"
      ]
     },
     "execution_count": 3,
     "metadata": {},
     "output_type": "execute_result"
    }
   ],
   "source": [
    "count = 0\n",
    "success = True\n",
    "\n",
    "vidcap = cv2.VideoCapture('/home/user/Desktop/Feb14/D1/start to end2/friends/stimuli/friends_s1e22a.mkv')\n",
    "fps = int(vidcap.get(cv2.CAP_PROP_FPS))\n",
    "fps"
   ]
  },
  {
   "cell_type": "code",
   "execution_count": 4,
   "metadata": {},
   "outputs": [
    {
     "data": {
      "text/plain": [
       "29.968454258675077"
      ]
     },
     "execution_count": 4,
     "metadata": {},
     "output_type": "execute_result"
    }
   ],
   "source": [
    "fps = vidcap.get(cv2.CAP_PROP_FPS)\n",
    "fps"
   ]
  },
  {
   "cell_type": "code",
   "execution_count": 5,
   "metadata": {},
   "outputs": [
    {
     "name": "stdout",
     "output_type": "stream",
     "text": [
      "48 34\n",
      "(717, 4096) (717, 4096) (702, 4096) (702, 4096)\n",
      "(880, 4096) (878, 4096) (733, 4096) (733, 4096)\n",
      "##############################################\n",
      "(710, 4096) (710, 4096) (671, 4096) (670, 4096)\n",
      "(744, 4096) (744, 4096) (738, 4096) (738, 4096)\n"
     ]
    }
   ],
   "source": [
    "Movie_Ses1= np.load('/home/user/Desktop/Thesis/Backup/backup_March4/Data_CC/Movie_Season1_f30.npy', allow_pickle=True)\n",
    "Movie_Ses2= np.load('/home/user/Desktop/Thesis/Backup/backup_March4/Data_CC/Movie_Season2_f30.npy', allow_pickle=True)\n",
    "Movie_Ses2_2=Movie_Ses2[0:34]\n",
    "print(len(Movie_Ses1), len(Movie_Ses2_2))\n",
    "\n",
    "\n",
    "print((np.array(Movie_Ses1[0])).shape, (np.array(Movie_Ses1[1])).shape, (np.array(Movie_Ses1[2])).shape, (np.array(Movie_Ses1[3])).shape )\n",
    "print((np.array(Movie_Ses1[10])).shape, (np.array(Movie_Ses1[11])).shape, (np.array(Movie_Ses1[12])).shape, (np.array(Movie_Ses1[13])).shape )\n",
    "\n",
    "\n",
    "print('##############################################')\n",
    "\n",
    "print((np.array(Movie_Ses2[0])).shape, (np.array(Movie_Ses2[1])).shape, (np.array(Movie_Ses2[2])).shape, (np.array(Movie_Ses2[3])).shape )\n",
    "print((np.array(Movie_Ses2[10])).shape, (np.array(Movie_Ses2[11])).shape, (np.array(Movie_Ses2[12])).shape, (np.array(Movie_Ses2[13])).shape )\n",
    "\n",
    "\n"
   ]
  },
  {
   "cell_type": "markdown",
   "metadata": {},
   "source": [
    "####  When the frames are extracted with 29 fps the rate  \"len(Movie_Ses[i]/ len(fMRI [i])\" was about 1.54 \n",
    "#### When the frames are extracted with 30 fps the rate  \"len(Movie_Ses[i])/ len(fMRI [i])\" was about 1.48 "
   ]
  },
  {
   "cell_type": "code",
   "execution_count": 6,
   "metadata": {},
   "outputs": [
    {
     "name": "stdout",
     "output_type": "stream",
     "text": [
      "1.487551867219917 1.4864864864864864 1.4865424430641823\n",
      "1.4863731656184487 1.4863731656184487 1.4848484848484849\n",
      "#############################################################\n",
      "1.4884696016771488 1.488 1.4874476987447698\n",
      "1.4877049180327868\n"
     ]
    }
   ],
   "source": [
    "print(len(Movie_Ses1[1])/ len(fMRI[1]), len(Movie_Ses1[10])/ len(fMRI[10]), len(Movie_Ses1[30])/ len(fMRI[30]))\n",
    "print(len(Movie_Ses1[20])/ len(fMRI[20]), len(Movie_Ses1[40])/ len(fMRI[40]), len(Movie_Ses1[45])/ len(fMRI[45]))\n",
    "\n",
    "print('#############################################################')\n",
    "\n",
    "print(len(Movie_Ses2[1])/ len(fMRI[1+48]), len(Movie_Ses2[10])/ len(fMRI[10+48]), len(Movie_Ses2[30])/ len(fMRI[30+48]))\n",
    "print(len(Movie_Ses2[20])/ len(fMRI[20+48]) )"
   ]
  },
  {
   "cell_type": "markdown",
   "metadata": {},
   "source": [
    "####  Already about 700 frames are extaxted from 21000 frames based on 30fps: 30, 60, 90,.... (this frames covers all scenes of the movies).  In the next step a subset of frames are extracted based on number of fMRI volums"
   ]
  },
  {
   "cell_type": "code",
   "execution_count": 7,
   "metadata": {},
   "outputs": [],
   "source": [
    "Movie= Movie_Ses1\n",
    "\n",
    "Lable=[]\n",
    "count_T=[]\n",
    "count=[]\n",
    "Movie_2=[]\n",
    "Movie_T2=[]\n",
    "\n",
    "for i in range(48):\n",
    "    count=[]\n",
    "    Movie_2=[]\n",
    "    rate=len(Movie[i])/ len(fMRI[i]) # Based on this rate the framea are selectted  \n",
    "    CC=np.array(Movie[i])\n",
    "    for j in range (len(Movie[i])):\n",
    "        \n",
    "        if (rate*j) < len(Movie[i]):\n",
    "        \n",
    "            count.append(math.floor(rate*j))\n",
    "            \n",
    "            kk=math.floor(rate*j)\n",
    "            Movie_2.append(CC[kk]) \n",
    "    count_T.append(count) \n",
    "    Movie_T2.append(Movie_2) \n",
    "\n",
    "Movie_Ses1=Movie_T2    \n"
   ]
  },
  {
   "cell_type": "code",
   "execution_count": 8,
   "metadata": {},
   "outputs": [
    {
     "name": "stdout",
     "output_type": "stream",
     "text": [
      "[0, 1, 2, 4, 5, 7, 8, 10, 11, 13, 14, 16, 17, 19, 20, 22, 23, 25, 26, 28, 29, 31, 32, 34, 35, 37, 38, 40, 41, 43, 44, 46, 47, 49, 50, 52, 53, 55, 56, 57, 59, 60, 62, 63, 65, 66, 68, 69, 71, 72, 74, 75, 77, 78, 80, 81, 83, 84, 86, 87, 89, 90, 92, 93, 95, 96, 98, 99, 101, 102, 104, 105, 107, 108, 110, 111, 112, 114, 115, 117, 118, 120, 121, 123, 124, 126, 127, 129, 130, 132, 133, 135, 136, 138, 139, 141, 142, 144, 145, 147, 148, 150, 151, 153, 154, 156, 157, 159, 160, 162, 163, 165, 166, 167, 169, 170, 172, 173, 175, 176, 178, 179, 181, 182, 184, 185, 187, 188, 190, 191, 193, 194, 196, 197, 199, 200, 202, 203, 205, 206, 208, 209, 211, 212, 214, 215, 217, 218, 220, 221, 222, 224, 225, 227, 228, 230, 231, 233, 234, 236, 237, 239, 240, 242, 243, 245, 246, 248, 249, 251, 252, 254, 255, 257, 258, 260, 261, 263, 264, 266, 267, 269, 270, 272, 273, 275, 276, 277, 279, 280, 282, 283, 285, 286, 288, 289, 291, 292, 294, 295, 297, 298, 300, 301, 303, 304, 306, 307, 309, 310, 312, 313, 315, 316, 318, 319, 321, 322, 324, 325, 327, 328, 330, 331, 332, 334, 335, 337, 338, 340, 341, 343, 344, 346, 347, 349, 350, 352, 353, 355, 356, 358, 359, 361, 362, 364, 365, 367, 368, 370, 371, 373, 374, 376, 377, 379, 380, 382, 383, 385, 386, 387, 389, 390, 392, 393, 395, 396, 398, 399, 401, 402, 404, 405, 407, 408, 410, 411, 413, 414, 416, 417, 419, 420, 422, 423, 425, 426, 428, 429, 431, 432, 434, 435, 437, 438, 440, 441, 442, 444, 445, 447, 448, 450, 451, 453, 454, 456, 457, 459, 460, 462, 463, 465, 466, 468, 469, 471, 472, 474, 475, 477, 478, 480, 481, 483, 484, 486, 487, 489, 490, 492, 493, 495, 496, 497, 499, 500, 502, 503, 505, 506, 508, 509, 511, 512, 514, 515, 517, 518, 520, 521, 523, 524, 526, 527, 529, 530, 532, 533, 535, 536, 538, 539, 541, 542, 544, 545, 547, 548, 550, 551, 552, 554, 555, 557, 558, 560, 561, 563, 564, 566, 567, 569, 570, 572, 573, 575, 576, 578, 579, 581, 582, 584, 585, 587, 588, 590, 591, 593, 594, 596, 597, 599, 600, 602, 603, 605, 606, 607, 609, 610, 612, 613, 615, 616, 618, 619, 621, 622, 624, 625, 627, 628, 630, 631, 633, 634, 636, 637, 639, 640, 642, 643, 645, 646, 648, 649, 651, 652, 654, 655, 657, 658, 660, 661, 662, 664, 665, 667, 668, 670, 671, 673, 674, 676, 677, 679, 680, 682, 683, 685, 686, 688, 689, 691, 692, 694, 695, 697, 698, 700, 701, 703, 704, 706, 707, 709, 710, 712, 713, 715, 716]\n"
     ]
    }
   ],
   "source": [
    "print(count_T[30]) # the extracted frame indexes.  number of frames of movie [i ]= number of volumes in fMRI data[i]   "
   ]
  },
  {
   "cell_type": "code",
   "execution_count": 9,
   "metadata": {},
   "outputs": [],
   "source": [
    "Movie= Movie_Ses2_2\n",
    "\n",
    "Lable=[]\n",
    "count_T=[]\n",
    "count=[]\n",
    "Movie_2=[]\n",
    "Movie_T2=[]\n",
    "\n",
    "for i in range(34):\n",
    "    count=[]\n",
    "    Movie_2=[]\n",
    "    rate=len(Movie[i])/ len(fMRI[i+48]) # Based on this rate the framea are selectted  \n",
    "    CC=np.array(Movie[i])\n",
    "    for j in range (len(Movie[i])):\n",
    "        \n",
    "        if (rate*j) < len(Movie[i]):\n",
    "        \n",
    "            count.append(math.floor(rate*j))\n",
    "            \n",
    "            kk=math.floor(rate*j)\n",
    "            Movie_2.append(CC[kk]) \n",
    "    count_T.append(count) \n",
    "    Movie_T2.append(Movie_2)\n",
    "    \n",
    "Movie_Ses2=Movie_T2    "
   ]
  },
  {
   "cell_type": "code",
   "execution_count": 10,
   "metadata": {},
   "outputs": [
    {
     "name": "stdout",
     "output_type": "stream",
     "text": [
      "[0, 1, 2, 4, 5, 7, 8, 10, 11, 13, 14, 16, 17, 19, 20, 22, 23, 25, 26, 28, 29, 31, 32, 34, 35, 37, 38, 40, 41, 43, 44, 46, 47, 49, 50, 52, 53, 55, 56, 58, 59, 60, 62, 63, 65, 66, 68, 69, 71, 72, 74, 75, 77, 78, 80, 81, 83, 84, 86, 87, 89, 90, 92, 93, 95, 96, 98, 99, 101, 102, 104, 105, 107, 108, 110, 111, 113, 114, 116, 117, 119, 120, 121, 123, 124, 126, 127, 129, 130, 132, 133, 135, 136, 138, 139, 141, 142, 144, 145, 147, 148, 150, 151, 153, 154, 156, 157, 159, 160, 162, 163, 165, 166, 168, 169, 171, 172, 174, 175, 177, 178, 180, 181, 182, 184, 185, 187, 188, 190, 191, 193, 194, 196, 197, 199, 200, 202, 203, 205, 206, 208, 209, 211, 212, 214, 215, 217, 218, 220, 221, 223, 224, 226, 227, 229, 230, 232, 233, 235, 236, 238, 239, 241, 242, 243, 245, 246, 248, 249, 251, 252, 254, 255, 257, 258, 260, 261, 263, 264, 266, 267, 269, 270, 272, 273, 275, 276, 278, 279, 281, 282, 284, 285, 287, 288, 290, 291, 293, 294, 296, 297, 299, 300, 302, 303, 304, 306, 307, 309, 310, 312, 313, 315, 316, 318, 319, 321, 322, 324, 325, 327, 328, 330, 331, 333, 334, 336, 337, 339, 340, 342, 343, 345, 346, 348, 349, 351, 352, 354, 355, 357, 358, 360, 361, 363, 364, 365, 367, 368, 370, 371, 373, 374, 376, 377, 379, 380, 382, 383, 385, 386, 388, 389, 391, 392, 394, 395, 397, 398, 400, 401, 403, 404, 406, 407, 409, 410, 412, 413, 415, 416, 418, 419, 421, 422, 423, 425, 426, 428, 429, 431, 432, 434, 435, 437, 438, 440, 441, 443, 444, 446, 447, 449, 450, 452, 453, 455, 456, 458, 459, 461, 462, 464, 465, 467, 468, 470, 471, 473, 474, 476, 477, 479, 480, 482, 483, 484, 486, 487, 489, 490, 492, 493, 495, 496, 498, 499, 501, 502, 504, 505, 507, 508, 510, 511, 513, 514, 516, 517, 519, 520, 522, 523, 525, 526, 528, 529, 531, 532, 534, 535, 537, 538, 540, 541, 543, 544, 545, 547, 548, 550, 551, 553, 554, 556, 557, 559, 560, 562, 563, 565, 566, 568, 569, 571, 572, 574, 575, 577, 578, 580, 581, 583, 584, 586, 587, 589, 590, 592, 593, 595, 596, 598, 599, 601, 602, 604, 605, 606, 608, 609, 611, 612, 614, 615, 617, 618, 620, 621, 623, 624, 626, 627, 629, 630, 632, 633, 635, 636, 638, 639, 641, 642, 644, 645, 647, 648, 650, 651, 653, 654, 656, 657, 659, 660, 662, 663, 665, 666, 667, 669, 670, 672, 673, 675, 676, 678, 679, 681, 682, 684, 685, 687, 688, 690, 691, 693, 694, 696, 697, 699, 700, 702, 703, 705, 706, 708, 709, 711, 712, 714, 715, 717, 718, 720, 721, 723, 724]\n"
     ]
    }
   ],
   "source": [
    "print(count_T[20]) # the extracted frame indexes.  number frames of movie[i] = # volumes in fMRI data [i]   "
   ]
  },
  {
   "cell_type": "code",
   "execution_count": 11,
   "metadata": {},
   "outputs": [
    {
     "name": "stdout",
     "output_type": "stream",
     "text": [
      "(482, 4096) (482, 444)\n",
      "(482, 4096) (482, 444)\n",
      "(472, 4096) (472, 444)\n",
      "(472, 4096) (472, 444)\n",
      "******************************************\n",
      "(483, 4096) (483, 444)\n",
      "(497, 4096) (497, 444)\n",
      "(497, 4096) (497, 444)\n",
      "(460, 4096) (460, 444)\n",
      "******************************************\n",
      "(500, 4096) (500, 444)\n",
      "(500, 4096) (500, 444)\n",
      "(496, 4096) (496, 444)\n",
      "(496, 4096) (496, 444)\n"
     ]
    }
   ],
   "source": [
    "print((np.array(Movie_Ses1[0])).shape, fMRI [0].shape)\n",
    "print((np.array(Movie_Ses1[1])).shape, fMRI [1].shape)\n",
    "print((np.array(Movie_Ses1[2])).shape, fMRI [2].shape)\n",
    "print((np.array(Movie_Ses1[3])).shape, fMRI [3].shape)\n",
    "print(\"******************************************\")     \n",
    "print((np.array(Movie_Ses1[33])).shape, fMRI [33].shape)\n",
    "print((np.array(Movie_Ses1[34])).shape, fMRI [34].shape)\n",
    "print((np.array(Movie_Ses1[35])).shape, fMRI [35].shape)\n",
    "print((np.array(Movie_Ses1[36])).shape, fMRI [36].shape) \n",
    "print(\"******************************************\")\n",
    "print((np.array(Movie_Ses2[10])).shape, fMRI [10+48].shape)\n",
    "print((np.array(Movie_Ses2[11])).shape, fMRI [11+48].shape)\n",
    "print((np.array(Movie_Ses2[12])).shape, fMRI [12+48].shape)\n",
    "print((np.array(Movie_Ses2[13])).shape, fMRI [13+48].shape) "
   ]
  },
  {
   "cell_type": "code",
   "execution_count": 12,
   "metadata": {},
   "outputs": [
    {
     "name": "stdout",
     "output_type": "stream",
     "text": [
      "(39379, 444)\n"
     ]
    }
   ],
   "source": [
    "\n",
    "fMRI_Data=np.concatenate(fMRI, axis=0)\n",
    "print(fMRI_Data.shape)\n",
    "\n"
   ]
  },
  {
   "cell_type": "markdown",
   "metadata": {},
   "source": [
    "# concatenate two season together"
   ]
  },
  {
   "cell_type": "code",
   "execution_count": 13,
   "metadata": {},
   "outputs": [
    {
     "data": {
      "text/plain": [
       "(23267, 4096)"
      ]
     },
     "execution_count": 13,
     "metadata": {},
     "output_type": "execute_result"
    }
   ],
   "source": [
    "arr1 = np.array(Movie_Ses1)\n",
    "LL1= np.array([np.array(x) for x in arr1])\n",
    "Movie_Data1=np.concatenate( LL1, axis=0 )\n",
    "Movie_Data1.shape"
   ]
  },
  {
   "cell_type": "code",
   "execution_count": 14,
   "metadata": {},
   "outputs": [
    {
     "data": {
      "text/plain": [
       "(16112, 4096)"
      ]
     },
     "execution_count": 14,
     "metadata": {},
     "output_type": "execute_result"
    }
   ],
   "source": [
    "arr2 = np.array(Movie_Ses2)\n",
    "LL2= np.array([np.array(x) for x in arr2])\n",
    "Movie_Data2=np.concatenate( LL2, axis=0 )\n",
    "Movie_Data2.shape"
   ]
  },
  {
   "cell_type": "code",
   "execution_count": 15,
   "metadata": {},
   "outputs": [
    {
     "data": {
      "text/plain": [
       "(39379, 4096)"
      ]
     },
     "execution_count": 15,
     "metadata": {},
     "output_type": "execute_result"
    }
   ],
   "source": [
    "Movie_Data=np.concatenate((Movie_Data1, Movie_Data2), axis=0)\n",
    "Movie_Data.shape"
   ]
  },
  {
   "cell_type": "markdown",
   "metadata": {},
   "source": [
    "## Now the dataset is ready!"
   ]
  },
  {
   "cell_type": "code",
   "execution_count": 16,
   "metadata": {},
   "outputs": [
    {
     "name": "stdout",
     "output_type": "stream",
     "text": [
      "(39379, 4096) (39379, 444)\n"
     ]
    }
   ],
   "source": [
    "print(Movie_Data.shape, fMRI_Data.shape)"
   ]
  },
  {
   "cell_type": "code",
   "execution_count": 17,
   "metadata": {},
   "outputs": [],
   "source": [
    "np.save('Aliye2_Movie_Data_fp30.npy', Movie_Data)\n",
    "np.save('Aliye2_fMRI_Data.npy', fMRI_Data)"
   ]
  },
  {
   "cell_type": "markdown",
   "metadata": {},
   "source": [
    "#### In the next step the delay should be applied on Movie dataset due to HRF"
   ]
  }
 ],
 "metadata": {
  "kernelspec": {
   "display_name": "Python 3",
   "language": "python",
   "name": "python3"
  },
  "language_info": {
   "codemirror_mode": {
    "name": "ipython",
    "version": 3
   },
   "file_extension": ".py",
   "mimetype": "text/x-python",
   "name": "python",
   "nbconvert_exporter": "python",
   "pygments_lexer": "ipython3",
   "version": "3.7.3"
  }
 },
 "nbformat": 4,
 "nbformat_minor": 2
}
