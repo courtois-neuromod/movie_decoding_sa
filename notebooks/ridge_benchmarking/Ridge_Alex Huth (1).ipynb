{
 "cells": [
  {
   "cell_type": "code",
   "execution_count": 1,
   "metadata": {},
   "outputs": [],
   "source": [
    "#import scipy\n",
    "import numpy as np\n",
    "import logging\n",
    "from ridge_utils import mult_diag, counter\n",
    "import random\n",
    "import itertools as itools"
   ]
  },
  {
   "cell_type": "code",
   "execution_count": 2,
   "metadata": {},
   "outputs": [],
   "source": [
    "\n",
    "zs = lambda v: (v-v.mean(0))/v.std(0) ## z-score function\n",
    "\n",
    "ridge_logger = logging.getLogger(\"ridge_corr\")\n",
    "\n",
    "def ridge(stim, resp, alpha, singcutoff=1e-10, normalpha=False, logger=ridge_logger):\n",
    " \n",
    "    try:\n",
    "        U,S,Vh = np.linalg.svd(stim, full_matrices=False)\n",
    "    except np.linalg.LinAlgError:\n",
    "        logger.info(\"NORMAL SVD FAILED, trying more robust dgesvd..\")\n",
    "        from text.regression.svd_dgesvd import svd_dgesvd\n",
    "        U,S,Vh = svd_dgesvd(stim, full_matrices=False)\n",
    "\n",
    "    UR = np.dot(U.T, np.nan_to_num(resp))\n",
    "    \n",
    "    # Expand alpha to a collection if it's just a single value\n",
    "    if isinstance(alpha, (float,int)):\n",
    "        alpha = np.ones(resp.shape[1]) * alpha\n",
    "    \n",
    "    # Normalize alpha by the LSV norm\n",
    "    norm = S[0]\n",
    "    if normalpha:\n",
    "        nalphas = alpha * norm\n",
    "    else:\n",
    "        nalphas = alpha\n",
    "\n",
    "    # Compute weights for each alpha\n",
    "    ualphas = np.unique(nalphas)\n",
    "    wt = np.zeros((stim.shape[1], resp.shape[1]))\n",
    "    for ua in ualphas:\n",
    "        selvox = np.nonzero(nalphas==ua)[0]\n",
    "        #awt = reduce(np.dot, [Vh.T, np.diag(S/(S**2+ua**2)), UR[:,selvox]])\n",
    "        awt = Vh.T.dot(np.diag(S/(S**2+ua**2))).dot(UR[:,selvox])\n",
    "        wt[:,selvox] = awt\n",
    "\n",
    "    return wt\n"
   ]
  },
  {
   "cell_type": "code",
   "execution_count": 4,
   "metadata": {},
   "outputs": [
    {
     "name": "stdout",
     "output_type": "stream",
     "text": [
      "(43999, 4096) (43999, 444)\n",
      "(20000, 444) (20000, 444)\n",
      "(18000, 444) (2000, 444) (18000, 444) (2000, 444)\n",
      "(444, 444)\n",
      "(444,)\n"
     ]
    }
   ],
   "source": [
    "import numpy as np\n",
    "import npp\n",
    "import matplotlib.pyplot as plt\n",
    "from sklearn.model_selection import train_test_split\n",
    "\n",
    "\n",
    "\n",
    "fMRI_Data= np.load('fMRI_Data_subject3.npy', allow_pickle=True)\n",
    "Movie_Data= np.load('Movie_Data_subject3.npy', allow_pickle=True)\n",
    "\n",
    "\n",
    "print (Movie_Data.shape, fMRI_Data.shape)\n",
    "\n",
    "fMRI_Data=fMRI_Data [0:20000,:]\n",
    "Movie_Data=fMRI_Data [0:20000,:]\n",
    "\n",
    "\n",
    "print (Movie_Data.shape, fMRI_Data.shape)\n",
    "\n",
    "\n",
    "x_train,x_test, y_train, y_test = train_test_split(Movie_Data, fMRI_Data , test_size=0.1)\n",
    "print(x_train.shape,x_test.shape, y_train.shape, y_test.shape)\n",
    "\n",
    "\n",
    "\n",
    "\n",
    "\n",
    "#from ridge import ridge\n",
    "beta_ridge = ridge (x_train,y_train, alpha=15.)\n",
    "\n",
    "wt=beta_ridge\n",
    "\n",
    "\n",
    "\n",
    "\n",
    "\n",
    "print(wt.shape)\n",
    "\n",
    "pred_test = x_test.dot(wt)\n",
    "\n",
    "Ridge_correlations = npp.mcorr(y_test, pred_test)\n",
    "\n",
    "print(Ridge_correlations.shape)\n",
    "\n",
    "\n",
    "\n",
    "np.save('1Ridge_correlations.npy', Ridge_correlations)\n",
    "\n",
    "np.save('wt.npy', wt)\n"
   ]
  },
  {
   "cell_type": "code",
   "execution_count": null,
   "metadata": {},
   "outputs": [],
   "source": []
  }
 ],
 "metadata": {
  "kernelspec": {
   "display_name": "Python 3",
   "language": "python",
   "name": "python3"
  },
  "language_info": {
   "codemirror_mode": {
    "name": "ipython",
    "version": 3
   },
   "file_extension": ".py",
   "mimetype": "text/x-python",
   "name": "python",
   "nbconvert_exporter": "python",
   "pygments_lexer": "ipython3",
   "version": "3.7.3"
  },
  "toc": {
   "base_numbering": 1,
   "nav_menu": {},
   "number_sections": true,
   "sideBar": true,
   "skip_h1_title": false,
   "title_cell": "Table of Contents",
   "title_sidebar": "Contents",
   "toc_cell": false,
   "toc_position": {},
   "toc_section_display": true,
   "toc_window_display": false
  }
 },
 "nbformat": 4,
 "nbformat_minor": 2
}
