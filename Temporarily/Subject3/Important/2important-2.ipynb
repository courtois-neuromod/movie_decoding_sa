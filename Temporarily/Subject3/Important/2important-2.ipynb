{
 "cells": [
  {
   "cell_type": "code",
   "execution_count": null,
   "metadata": {},
   "outputs": [],
   "source": []
  },
  {
   "cell_type": "code",
   "execution_count": null,
   "metadata": {},
   "outputs": [],
   "source": []
  },
  {
   "cell_type": "code",
   "execution_count": null,
   "metadata": {},
   "outputs": [],
   "source": []
  },
  {
   "cell_type": "code",
   "execution_count": 1,
   "metadata": {},
   "outputs": [],
   "source": [
    "import numpy as np"
   ]
  },
  {
   "cell_type": "code",
   "execution_count": 2,
   "metadata": {},
   "outputs": [],
   "source": [
    "fMRI_Data1= np.load('fMRI_label1.npy', allow_pickle=True)\n",
    "fMRI_Data2= np.load('fMRI_label2.npy', allow_pickle=True)\n",
    "fMRI_Data3= np.load('fMRI_label3.npy', allow_pickle=True)\n",
    "fMRI_Data4= np.load('fMRI_label4.npy', allow_pickle=True)\n",
    "fMRI_Data5= np.load('fMRI_label5.npy', allow_pickle=True)\n",
    "fMRI_Data6= np.load('fMRI_label6.npy', allow_pickle=True)"
   ]
  },
  {
   "cell_type": "code",
   "execution_count": 3,
   "metadata": {},
   "outputs": [],
   "source": [
    "Movie_Data1= np.load('Xx1.npy', allow_pickle=True)\n",
    "Movie_Data2= np.load('Xx2.npy', allow_pickle=True)\n",
    "Movie_Data3= np.load('Xx3.npy', allow_pickle=True)\n",
    "Movie_Data4= np.load('Xx4.npy', allow_pickle=True)\n",
    "Movie_Data5= np.load('Xx5.npy', allow_pickle=True)\n",
    "Movie_Data6= np.load('Xx6.npy', allow_pickle=True)"
   ]
  },
  {
   "cell_type": "code",
   "execution_count": 4,
   "metadata": {},
   "outputs": [],
   "source": [
    "Xx_T=np.vstack((Movie_Data1,Movie_Data2,Movie_Data3,Movie_Data4,Movie_Data5,Movie_Data6))"
   ]
  },
  {
   "cell_type": "code",
   "execution_count": 5,
   "metadata": {},
   "outputs": [
    {
     "data": {
      "text/plain": [
       "(39594, 12000)"
      ]
     },
     "execution_count": 5,
     "metadata": {},
     "output_type": "execute_result"
    }
   ],
   "source": [
    "Xx_T.shape"
   ]
  },
  {
   "cell_type": "code",
   "execution_count": 6,
   "metadata": {},
   "outputs": [],
   "source": [
    "Label_T=np.vstack((fMRI_Data1,fMRI_Data2,fMRI_Data3,fMRI_Data4,fMRI_Data5,fMRI_Data6))"
   ]
  },
  {
   "cell_type": "code",
   "execution_count": 7,
   "metadata": {},
   "outputs": [
    {
     "data": {
      "text/plain": [
       "(39594, 444)"
      ]
     },
     "execution_count": 7,
     "metadata": {},
     "output_type": "execute_result"
    }
   ],
   "source": [
    "Label_T.shape"
   ]
  },
  {
   "cell_type": "code",
   "execution_count": 8,
   "metadata": {},
   "outputs": [],
   "source": [
    "Movie_PCA=np.load('x_test.npy', allow_pickle=True)\n",
    "y_test=np.load('y_test.npy', allow_pickle=True)"
   ]
  },
  {
   "cell_type": "code",
   "execution_count": 9,
   "metadata": {},
   "outputs": [],
   "source": [
    "Movie_Data= Movie_PCA\n",
    "\n",
    "T1=[]\n",
    "T2=[]\n",
    "T3=[]\n",
    "T4=[]\n",
    "T5=[]\n",
    "T6=[]\n",
    "T7=[]\n",
    "T8=[]\n",
    "\n",
    "\n",
    "\n",
    "for i in range(len(Movie_Data)):\n",
    "     \n",
    "    if i % 6==0:\n",
    "        T1.append(Movie_Data[i,:]) \n",
    "        \n",
    "    if i % 6==1:\n",
    "        T2.append(Movie_Data[i,:])    \n",
    "        \n",
    "    if i % 6==2:\n",
    "        T3.append(Movie_Data[i,:])\n",
    "        \n",
    "    if i % 6==3:\n",
    "        T4.append(Movie_Data[i,:] )    \n",
    "\n",
    "     \n",
    "    if i % 6==4:\n",
    "        T5.append(Movie_Data[i,:]) \n",
    "        \n",
    "    if i % 6==5:\n",
    "        T6.append(Movie_Data[i,:])    \n",
    "        \n",
    "          \n",
    "            \n",
    "  \n",
    "T1_D= np.array(T1[0:733])\n",
    "T2_D= np.array(T2[0:733])\n",
    "T3_D= np.array(T3)\n",
    "T4_D= np.array(T4)\n",
    "T5_D= np.array(T5)\n",
    "T6_D= np.array(T6)"
   ]
  },
  {
   "cell_type": "code",
   "execution_count": 10,
   "metadata": {},
   "outputs": [
    {
     "name": "stdout",
     "output_type": "stream",
     "text": [
      "(733, 2000) (733, 2000) (733, 2000) (733, 2000) (733, 2000) (733, 2000)\n"
     ]
    }
   ],
   "source": [
    "print(T1_D.shape, T2_D.shape, T3_D.shape,T4_D.shape,T5_D.shape, T6_D.shape)"
   ]
  },
  {
   "cell_type": "code",
   "execution_count": 11,
   "metadata": {},
   "outputs": [],
   "source": [
    "Xx_test=np.hstack((T1_D,T2_D,T3_D,T4_D,T5_D,T6_D))"
   ]
  },
  {
   "cell_type": "code",
   "execution_count": 12,
   "metadata": {},
   "outputs": [],
   "source": [
    "fMRI_Data= y_test\n",
    "\n",
    "fMRI_label=[]\n",
    "\n",
    "for i in range(len(fMRI_Data)):\n",
    "       \n",
    "        \n",
    "    if i % 6==5:\n",
    "        fMRI_label.append(fMRI_Data[i,:]) \n",
    "        \n",
    "      \n",
    "label_test= np.array(fMRI_label)"
   ]
  },
  {
   "cell_type": "code",
   "execution_count": 13,
   "metadata": {},
   "outputs": [
    {
     "name": "stdout",
     "output_type": "stream",
     "text": [
      "(733, 12000) (733, 444)\n"
     ]
    }
   ],
   "source": [
    "print(Xx_test.shape, label_test.shape)"
   ]
  },
  {
   "cell_type": "code",
   "execution_count": null,
   "metadata": {},
   "outputs": [
    {
     "name": "stderr",
     "output_type": "stream",
     "text": [
      "INFO:ridge_corr:Selecting held-out test set..\n",
      "INFO:ridge_corr:Doing SVD...\n"
     ]
    }
   ],
   "source": [
    "from ridge import bootstrap_ridge\n",
    "import logging\n",
    "\n",
    "logging.basicConfig(level=logging.INFO)\n",
    "\n",
    "\n",
    "alphas = np.logspace(0, 3, 10) # Equally log-spaced alphas between 10 and 1000\n",
    "\n",
    "wt, corr, alphas, bscorrs, valinds = bootstrap_ridge(Xx_T, Label_T,\n",
    "                                                     Xx_test, label_test,\n",
    "                                                     alphas, nboots=1, chunklen=40, nchunks=20,\n",
    "                                                    singcutoff=1e-10, single_alpha=True)"
   ]
  },
  {
   "cell_type": "code",
   "execution_count": null,
   "metadata": {},
   "outputs": [],
   "source": []
  }
 ],
 "metadata": {
  "kernelspec": {
   "display_name": "Python 3",
   "language": "python",
   "name": "python3"
  },
  "language_info": {
   "codemirror_mode": {
    "name": "ipython",
    "version": 3
   },
   "file_extension": ".py",
   "mimetype": "text/x-python",
   "name": "python",
   "nbconvert_exporter": "python",
   "pygments_lexer": "ipython3",
   "version": "3.7.3"
  },
  "toc": {
   "base_numbering": 1,
   "nav_menu": {},
   "number_sections": true,
   "sideBar": true,
   "skip_h1_title": false,
   "title_cell": "Table of Contents",
   "title_sidebar": "Contents",
   "toc_cell": false,
   "toc_position": {},
   "toc_section_display": true,
   "toc_window_display": false
  }
 },
 "nbformat": 4,
 "nbformat_minor": 2
}
