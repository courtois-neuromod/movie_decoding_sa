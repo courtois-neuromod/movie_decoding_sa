{
 "cells": [
  {
   "cell_type": "code",
   "execution_count": null,
   "metadata": {},
   "outputs": [],
   "source": []
  },
  {
   "cell_type": "code",
   "execution_count": null,
   "metadata": {},
   "outputs": [],
   "source": []
  },
  {
   "cell_type": "code",
   "execution_count": 2,
   "metadata": {},
   "outputs": [],
   "source": [
    "from tensorflow.keras.applications.vgg16 import VGG16\n",
    "from tensorflow.keras.models import Model\n",
    "import numpy as np\n",
    "from load_confounds import Params24\n",
    "from nilearn.input_data import NiftiLabelsMasker\n",
    "#import npp\n",
    "import matplotlib.pyplot as plt\n",
    "from nilearn.plotting  import view_img \n",
    "from sklearn.decomposition import PCA\n",
    "from sklearn.model_selection import train_test_split"
   ]
  },
  {
   "cell_type": "code",
   "execution_count": 3,
   "metadata": {},
   "outputs": [],
   "source": [
    "#Movie_Data= np.load('Movie_Data_subject3.npy', allow_pickle=True)\n",
    "#pca = PCA(n_components=2000)\n",
    "#Movie_PCA = pca.fit_transform(Movie_Data)\n",
    "#np.save('Movie_PCA_2000.npy', Movie_PCA)\n"
   ]
  },
  {
   "cell_type": "code",
   "execution_count": 21,
   "metadata": {},
   "outputs": [],
   "source": [
    "Movie_Data= np.load('Movie_PCA_2000.npy', allow_pickle=True)"
   ]
  },
  {
   "cell_type": "code",
   "execution_count": 22,
   "metadata": {},
   "outputs": [
    {
     "data": {
      "text/plain": [
       "(43999, 2000)"
      ]
     },
     "execution_count": 22,
     "metadata": {},
     "output_type": "execute_result"
    }
   ],
   "source": [
    "Movie_Data.shape"
   ]
  },
  {
   "cell_type": "code",
   "execution_count": 23,
   "metadata": {},
   "outputs": [],
   "source": [
    "fMRI_Data= np.load('fMRI_Data_subject3.npy', allow_pickle=True)"
   ]
  },
  {
   "cell_type": "code",
   "execution_count": 24,
   "metadata": {},
   "outputs": [
    {
     "data": {
      "text/plain": [
       "(43999, 444)"
      ]
     },
     "execution_count": 24,
     "metadata": {},
     "output_type": "execute_result"
    }
   ],
   "source": [
    "fMRI_Data.shape"
   ]
  },
  {
   "cell_type": "code",
   "execution_count": 25,
   "metadata": {},
   "outputs": [
    {
     "name": "stdout",
     "output_type": "stream",
     "text": [
      "(39599, 2000) (4400, 2000) (39599, 444) (4400, 444)\n"
     ]
    }
   ],
   "source": [
    "x_train,x_test, y_train, y_test = train_test_split(Movie_Data, fMRI_Data , test_size=0.1)\n",
    "print(x_train.shape,x_test.shape, y_train.shape, y_test.shape)"
   ]
  },
  {
   "cell_type": "code",
   "execution_count": 37,
   "metadata": {},
   "outputs": [],
   "source": [
    "Movie_PCA =x_train\n",
    "fMRI_Data=y_train"
   ]
  },
  {
   "cell_type": "code",
   "execution_count": 101,
   "metadata": {},
   "outputs": [],
   "source": [
    "np.save('x_train.npy', x_train)\n",
    "np.save('x_test.npy', x_test)\n",
    "np.save('y_train.npy', y_train)\n",
    "np.save('y_test.npy', y_test)"
   ]
  },
  {
   "cell_type": "code",
   "execution_count": 31,
   "metadata": {},
   "outputs": [],
   "source": [
    "Movie_Data= Movie_PCA \n",
    "\n",
    "T1=[]\n",
    "T2=[]\n",
    "T3=[]\n",
    "T4=[]\n",
    "T5=[]\n",
    "T6=[]\n",
    "T7=[]\n",
    "T8=[]\n",
    "\n",
    "\n",
    "\n",
    "for i in range(len(Movie_Data)):\n",
    "     \n",
    "    if i % 6==0:\n",
    "        T1.append(Movie_Data[i,:]) \n",
    "        \n",
    "    if i % 6==1:\n",
    "        T2.append(Movie_Data[i,:])    \n",
    "        \n",
    "    if i % 6==2:\n",
    "        T3.append(Movie_Data[i,:])\n",
    "        \n",
    "    if i % 6==3:\n",
    "        T4.append(Movie_Data[i,:] )    \n",
    "\n",
    "     \n",
    "    if i % 6==4:\n",
    "        T5.append(Movie_Data[i,:]) \n",
    "        \n",
    "    if i % 6==5:\n",
    "        T6.append(Movie_Data[i,:])    \n",
    "        \n",
    "        \n",
    "     \n",
    "            \n",
    "  \n",
    "T1_D= np.array(T1[0:6599])\n",
    "T2_D= np.array(T2[0:6599])\n",
    "T3_D= np.array(T3[0:6599])\n",
    "T4_D= np.array(T4[0:6599])\n",
    "T5_D= np.array(T5[0:6599])\n",
    "T6_D= np.array(T6)\n",
    "\n"
   ]
  },
  {
   "cell_type": "code",
   "execution_count": 32,
   "metadata": {},
   "outputs": [
    {
     "name": "stdout",
     "output_type": "stream",
     "text": [
      "(6599, 2000) (6599, 2000) (6599, 2000) (6599, 2000) (6599, 2000) (6599, 2000)\n"
     ]
    }
   ],
   "source": [
    "print(T1_D.shape, T2_D.shape, T3_D.shape,T4_D.shape,T5_D.shape, T6_D.shape)"
   ]
  },
  {
   "cell_type": "code",
   "execution_count": 34,
   "metadata": {},
   "outputs": [],
   "source": [
    "Xx1=np.hstack((T1_D,T2_D,T3_D,T4_D,T5_D,T6_D))\n",
    "np.save('Xx1.npy', Xx1)"
   ]
  },
  {
   "cell_type": "code",
   "execution_count": 54,
   "metadata": {},
   "outputs": [],
   "source": [
    "fMRI_Data= y_train\n",
    "\n",
    "fMRI_label=[]\n",
    "\n",
    "for i in range(len(fMRI_Data)):\n",
    "       \n",
    "        \n",
    "    if i % 6==5:\n",
    "        fMRI_label.append(fMRI_Data[i,:]) \n",
    "        \n",
    "      \n",
    "fMRI_label1= np.array(fMRI_label)"
   ]
  },
  {
   "cell_type": "code",
   "execution_count": 46,
   "metadata": {},
   "outputs": [],
   "source": [
    "np.save('fMRI_label1.npy', fMRI_label1)"
   ]
  },
  {
   "cell_type": "code",
   "execution_count": 55,
   "metadata": {},
   "outputs": [
    {
     "name": "stdout",
     "output_type": "stream",
     "text": [
      "(6599, 444) (6599, 12000)\n"
     ]
    }
   ],
   "source": [
    "print(fMRI_label1.shape, Xx1.shape)"
   ]
  },
  {
   "cell_type": "code",
   "execution_count": 11,
   "metadata": {},
   "outputs": [],
   "source": [
    "########################################################################"
   ]
  },
  {
   "cell_type": "code",
   "execution_count": 50,
   "metadata": {},
   "outputs": [],
   "source": [
    "Movie_Data= Movie_PCA[1:39599] \n",
    "\n",
    "T1=[]\n",
    "T2=[]\n",
    "T3=[]\n",
    "T4=[]\n",
    "T5=[]\n",
    "T6=[]\n",
    "T7=[]\n",
    "T8=[]\n",
    "\n",
    "\n",
    "\n",
    "for i in range(len(Movie_Data)):\n",
    "     \n",
    "    if i % 6==0:\n",
    "        T1.append(Movie_Data[i,:]) \n",
    "        \n",
    "    if i % 6==1:\n",
    "        T2.append(Movie_Data[i,:])    \n",
    "        \n",
    "    if i % 6==2:\n",
    "        T3.append(Movie_Data[i,:])\n",
    "        \n",
    "    if i % 6==3:\n",
    "        T4.append(Movie_Data[i,:] )    \n",
    "\n",
    "     \n",
    "    if i % 6==4:\n",
    "        T5.append(Movie_Data[i,:]) \n",
    "        \n",
    "    if i % 6==5:\n",
    "        T6.append(Movie_Data[i,:])    \n",
    "        \n",
    "          \n",
    "            \n",
    "  \n",
    "T1_D= np.array(T1[0:6599])\n",
    "T2_D= np.array(T2[0:6599])\n",
    "T3_D= np.array(T3[0:6599])\n",
    "T4_D= np.array(T4 [0:6599])\n",
    "T5_D= np.array(T5)\n",
    "T6_D= np.array(T6)"
   ]
  },
  {
   "cell_type": "code",
   "execution_count": 51,
   "metadata": {},
   "outputs": [
    {
     "name": "stdout",
     "output_type": "stream",
     "text": [
      "(6599, 2000) (6599, 2000) (6599, 2000) (6599, 2000) (6599, 2000) (6599, 2000)\n"
     ]
    }
   ],
   "source": [
    "print(T1_D.shape, T2_D.shape, T3_D.shape,T4_D.shape,T5_D.shape, T6_D.shape)"
   ]
  },
  {
   "cell_type": "code",
   "execution_count": 52,
   "metadata": {},
   "outputs": [],
   "source": [
    "Xx2=np.hstack((T1_D,T2_D,T3_D,T4_D,T5_D,T6_D))"
   ]
  },
  {
   "cell_type": "code",
   "execution_count": 56,
   "metadata": {},
   "outputs": [],
   "source": [
    "fMRI_Data= y_train[1:39599]\n",
    "\n",
    "fMRI_label=[]\n",
    "\n",
    "for i in range(len(fMRI_Data)):\n",
    "       \n",
    "        \n",
    "    if i % 6==5:\n",
    "        fMRI_label.append(fMRI_Data[i,:]) \n",
    "        \n",
    "      \n",
    "fMRI_label2= np.array(fMRI_label)"
   ]
  },
  {
   "cell_type": "code",
   "execution_count": 57,
   "metadata": {},
   "outputs": [
    {
     "data": {
      "text/plain": [
       "(6599, 444)"
      ]
     },
     "execution_count": 57,
     "metadata": {},
     "output_type": "execute_result"
    }
   ],
   "source": [
    "fMRI_label2.shape"
   ]
  },
  {
   "cell_type": "code",
   "execution_count": 58,
   "metadata": {},
   "outputs": [],
   "source": [
    "np.save('Xx2.npy', Xx2)\n",
    "np.save('fMRI_label2.npy', fMRI_label2)"
   ]
  },
  {
   "cell_type": "code",
   "execution_count": 19,
   "metadata": {},
   "outputs": [],
   "source": [
    "####################################################################################"
   ]
  },
  {
   "cell_type": "code",
   "execution_count": 66,
   "metadata": {},
   "outputs": [],
   "source": [
    "Movie_Data= Movie_PCA[2:39599] \n",
    "\n",
    "T1=[]\n",
    "T2=[]\n",
    "T3=[]\n",
    "T4=[]\n",
    "T5=[]\n",
    "T6=[]\n",
    "T7=[]\n",
    "T8=[]\n",
    "\n",
    "\n",
    "\n",
    "for i in range(len(Movie_Data)):\n",
    "     \n",
    "    if i % 6==0:\n",
    "        T1.append(Movie_Data[i,:]) \n",
    "        \n",
    "    if i % 6==1:\n",
    "        T2.append(Movie_Data[i,:])    \n",
    "        \n",
    "    if i % 6==2:\n",
    "        T3.append(Movie_Data[i,:])\n",
    "        \n",
    "    if i % 6==3:\n",
    "        T4.append(Movie_Data[i,:] )    \n",
    "\n",
    "     \n",
    "    if i % 6==4:\n",
    "        T5.append(Movie_Data[i,:]) \n",
    "        \n",
    "    if i % 6==5:\n",
    "        T6.append(Movie_Data[i,:])    \n",
    "        \n",
    "          \n",
    "            \n",
    "  \n",
    "T1_D= np.array(T1[0:6599])\n",
    "T2_D= np.array(T2[0:6599])\n",
    "T3_D= np.array(T3[0:6599])\n",
    "T4_D= np.array(T4)\n",
    "T5_D= np.array(T5)\n",
    "T6_D= np.array(T6)"
   ]
  },
  {
   "cell_type": "code",
   "execution_count": 67,
   "metadata": {},
   "outputs": [
    {
     "name": "stdout",
     "output_type": "stream",
     "text": [
      "(6599, 2000) (6599, 2000) (6599, 2000) (6599, 2000) (6599, 2000) (6599, 2000)\n"
     ]
    }
   ],
   "source": [
    "print(T1_D.shape, T2_D.shape, T3_D.shape,T4_D.shape,T5_D.shape, T6_D.shape)"
   ]
  },
  {
   "cell_type": "code",
   "execution_count": 68,
   "metadata": {},
   "outputs": [],
   "source": [
    "Xx3=np.hstack((T1_D,T2_D,T3_D,T4_D,T5_D,T6_D))"
   ]
  },
  {
   "cell_type": "code",
   "execution_count": 69,
   "metadata": {},
   "outputs": [],
   "source": [
    "fMRI_Data= y_train \n",
    "fMRI_Data= fMRI_Data[2:39599]\n",
    "\n",
    "fMRI_label=[]\n",
    "\n",
    "for i in range(len(fMRI_Data)):\n",
    "       \n",
    "        \n",
    "    if i % 6==5:\n",
    "        fMRI_label.append(fMRI_Data[i,:]) \n",
    "        \n",
    "      \n",
    "fMRI_label3= np.array(fMRI_label)"
   ]
  },
  {
   "cell_type": "code",
   "execution_count": 70,
   "metadata": {},
   "outputs": [
    {
     "data": {
      "text/plain": [
       "(6599, 444)"
      ]
     },
     "execution_count": 70,
     "metadata": {},
     "output_type": "execute_result"
    }
   ],
   "source": [
    "fMRI_label3.shape"
   ]
  },
  {
   "cell_type": "code",
   "execution_count": 71,
   "metadata": {},
   "outputs": [],
   "source": [
    "np.save('Xx3.npy', Xx3)\n",
    "np.save('fMRI_label3.npy', fMRI_label3)"
   ]
  },
  {
   "cell_type": "code",
   "execution_count": 25,
   "metadata": {},
   "outputs": [],
   "source": [
    "#################################################################################"
   ]
  },
  {
   "cell_type": "code",
   "execution_count": 74,
   "metadata": {},
   "outputs": [],
   "source": [
    "Movie_Data= Movie_PCA[3:39599] \n",
    "\n",
    "T1=[]\n",
    "T2=[]\n",
    "T3=[]\n",
    "T4=[]\n",
    "T5=[]\n",
    "T6=[]\n",
    "T7=[]\n",
    "T8=[]\n",
    "\n",
    "\n",
    "\n",
    "for i in range(len(Movie_Data)):\n",
    "     \n",
    "    if i % 6==0:\n",
    "        T1.append(Movie_Data[i,:]) \n",
    "        \n",
    "    if i % 6==1:\n",
    "        T2.append(Movie_Data[i,:])    \n",
    "        \n",
    "    if i % 6==2:\n",
    "        T3.append(Movie_Data[i,:])\n",
    "        \n",
    "    if i % 6==3:\n",
    "        T4.append(Movie_Data[i,:] )    \n",
    "\n",
    "     \n",
    "    if i % 6==4:\n",
    "        T5.append(Movie_Data[i,:]) \n",
    "        \n",
    "    if i % 6==5:\n",
    "        T6.append(Movie_Data[i,:])    \n",
    "        \n",
    "  \n",
    "T1_D= np.array(T1[0:6599])\n",
    "T2_D= np.array(T2[0:6599])\n",
    "T3_D= np.array(T3)\n",
    "T4_D= np.array(T4)\n",
    "T5_D= np.array(T5)\n",
    "T6_D= np.array(T6)\n",
    "\n"
   ]
  },
  {
   "cell_type": "code",
   "execution_count": 75,
   "metadata": {},
   "outputs": [
    {
     "name": "stdout",
     "output_type": "stream",
     "text": [
      "(6599, 2000) (6599, 2000) (6599, 2000) (6599, 2000) (6599, 2000) (6599, 2000)\n"
     ]
    }
   ],
   "source": [
    "print(T1_D.shape, T2_D.shape, T3_D.shape,T4_D.shape,T5_D.shape, T6_D.shape)"
   ]
  },
  {
   "cell_type": "code",
   "execution_count": 76,
   "metadata": {},
   "outputs": [],
   "source": [
    "Xx4=np.hstack((T1_D,T2_D,T3_D,T4_D,T5_D,T6_D))"
   ]
  },
  {
   "cell_type": "code",
   "execution_count": 79,
   "metadata": {},
   "outputs": [],
   "source": [
    "fMRI_Data= y_train \n",
    "fMRI_Data= fMRI_Data[3:39599]\n",
    "\n",
    "fMRI_label=[]\n",
    "\n",
    "for i in range(len(fMRI_Data)):\n",
    "       \n",
    "        \n",
    "    if i % 6==5:\n",
    "        fMRI_label.append(fMRI_Data[i,:]) \n",
    "        \n",
    "      \n",
    "fMRI_label4= np.array(fMRI_label)"
   ]
  },
  {
   "cell_type": "code",
   "execution_count": 80,
   "metadata": {},
   "outputs": [
    {
     "data": {
      "text/plain": [
       "(6599, 444)"
      ]
     },
     "execution_count": 80,
     "metadata": {},
     "output_type": "execute_result"
    }
   ],
   "source": [
    "fMRI_label4.shape"
   ]
  },
  {
   "cell_type": "code",
   "execution_count": 81,
   "metadata": {},
   "outputs": [],
   "source": [
    "np.save('Xx4.npy', Xx4)\n",
    "np.save('fMRI_label4.npy', fMRI_label4)"
   ]
  },
  {
   "cell_type": "code",
   "execution_count": 31,
   "metadata": {},
   "outputs": [],
   "source": [
    "############################################################################"
   ]
  },
  {
   "cell_type": "code",
   "execution_count": 86,
   "metadata": {},
   "outputs": [],
   "source": [
    "Movie_Data= Movie_PCA[4:39599] \n",
    "\n",
    "T1=[]\n",
    "T2=[]\n",
    "T3=[]\n",
    "T4=[]\n",
    "T5=[]\n",
    "T6=[]\n",
    "T7=[]\n",
    "T8=[]\n",
    "\n",
    "\n",
    "\n",
    "for i in range(len(Movie_Data)):\n",
    "     \n",
    "    if i % 6==0:\n",
    "        T1.append(Movie_Data[i,:]) \n",
    "        \n",
    "    if i % 6==1:\n",
    "        T2.append(Movie_Data[i,:])    \n",
    "        \n",
    "    if i % 6==2:\n",
    "        T3.append(Movie_Data[i,:])\n",
    "        \n",
    "    if i % 6==3:\n",
    "        T4.append(Movie_Data[i,:] )    \n",
    "\n",
    "     \n",
    "    if i % 6==4:\n",
    "        T5.append(Movie_Data[i,:]) \n",
    "        \n",
    "    if i % 6==5:\n",
    "        T6.append(Movie_Data[i,:])    \n",
    "        \n",
    "  \n",
    "T1_D= np.array(T1[0:6599])\n",
    "T2_D= np.array(T2)\n",
    "T3_D= np.array(T3)\n",
    "T4_D= np.array(T4)\n",
    "T5_D= np.array(T5)\n",
    "T6_D= np.array(T6)"
   ]
  },
  {
   "cell_type": "code",
   "execution_count": 87,
   "metadata": {},
   "outputs": [
    {
     "name": "stdout",
     "output_type": "stream",
     "text": [
      "(6599, 2000) (6599, 2000) (6599, 2000) (6599, 2000) (6599, 2000) (6599, 2000)\n"
     ]
    }
   ],
   "source": [
    "print(T1_D.shape, T2_D.shape, T3_D.shape,T4_D.shape,T5_D.shape, T6_D.shape)"
   ]
  },
  {
   "cell_type": "code",
   "execution_count": 88,
   "metadata": {},
   "outputs": [],
   "source": [
    "Xx5=np.hstack((T1_D,T2_D,T3_D,T4_D,T5_D,T6_D))"
   ]
  },
  {
   "cell_type": "code",
   "execution_count": 89,
   "metadata": {},
   "outputs": [
    {
     "data": {
      "text/plain": [
       "(6599, 12000)"
      ]
     },
     "execution_count": 89,
     "metadata": {},
     "output_type": "execute_result"
    }
   ],
   "source": [
    "Xx5.shape"
   ]
  },
  {
   "cell_type": "code",
   "execution_count": 90,
   "metadata": {},
   "outputs": [],
   "source": [
    "fMRI_Data= y_train\n",
    "fMRI_Data= fMRI_Data[4:39599]\n",
    "\n",
    "fMRI_label=[]\n",
    "\n",
    "for i in range(len(fMRI_Data)):\n",
    "       \n",
    "        \n",
    "    if i % 6==5:\n",
    "        fMRI_label.append(fMRI_Data[i,:]) \n",
    "        \n",
    "      \n",
    "fMRI_label5= np.array(fMRI_label)"
   ]
  },
  {
   "cell_type": "code",
   "execution_count": 91,
   "metadata": {},
   "outputs": [
    {
     "data": {
      "text/plain": [
       "(6599, 444)"
      ]
     },
     "execution_count": 91,
     "metadata": {},
     "output_type": "execute_result"
    }
   ],
   "source": [
    "fMRI_label5.shape"
   ]
  },
  {
   "cell_type": "code",
   "execution_count": 99,
   "metadata": {},
   "outputs": [],
   "source": [
    "np.save('Xx5.npy', Xx5)\n",
    "np.save('fMRI_label5.npy', fMRI_label5)"
   ]
  },
  {
   "cell_type": "code",
   "execution_count": null,
   "metadata": {},
   "outputs": [],
   "source": []
  },
  {
   "cell_type": "code",
   "execution_count": 37,
   "metadata": {},
   "outputs": [],
   "source": [
    "#########################################################33"
   ]
  },
  {
   "cell_type": "code",
   "execution_count": 92,
   "metadata": {},
   "outputs": [],
   "source": [
    "Movie_Data= Movie_PCA[5:39599] \n",
    "\n",
    "T1=[]\n",
    "T2=[]\n",
    "T3=[]\n",
    "T4=[]\n",
    "T5=[]\n",
    "T6=[]\n",
    "T7=[]\n",
    "T8=[]\n",
    "\n",
    "\n",
    "\n",
    "for i in range(len(Movie_Data)):\n",
    "     \n",
    "    if i % 6==0:\n",
    "        T1.append(Movie_Data[i,:]) \n",
    "        \n",
    "    if i % 6==1:\n",
    "        T2.append(Movie_Data[i,:])    \n",
    "        \n",
    "    if i % 6==2:\n",
    "        T3.append(Movie_Data[i,:])\n",
    "        \n",
    "    if i % 6==3:\n",
    "        T4.append(Movie_Data[i,:] )    \n",
    "\n",
    "     \n",
    "    if i % 6==4:\n",
    "        T5.append(Movie_Data[i,:]) \n",
    "        \n",
    "    if i % 6==5:\n",
    "        T6.append(Movie_Data[i,:])    \n",
    "        \n",
    "  \n",
    "T1_D= np.array(T1)\n",
    "T2_D= np.array(T2)\n",
    "T3_D= np.array(T3)\n",
    "T4_D= np.array(T4)\n",
    "T5_D= np.array(T5)\n",
    "T6_D= np.array(T6)"
   ]
  },
  {
   "cell_type": "code",
   "execution_count": 93,
   "metadata": {},
   "outputs": [
    {
     "name": "stdout",
     "output_type": "stream",
     "text": [
      "(6599, 2000) (6599, 2000) (6599, 2000) (6599, 2000) (6599, 2000) (6599, 2000)\n"
     ]
    }
   ],
   "source": [
    "print(T1_D.shape, T2_D.shape, T3_D.shape,T4_D.shape,T5_D.shape, T6_D.shape)"
   ]
  },
  {
   "cell_type": "code",
   "execution_count": 95,
   "metadata": {},
   "outputs": [],
   "source": [
    "Xx6=np.hstack((T1_D,T2_D,T3_D,T4_D,T5_D,T6_D))"
   ]
  },
  {
   "cell_type": "code",
   "execution_count": 96,
   "metadata": {},
   "outputs": [],
   "source": [
    "fMRI_Data= y_train\n",
    "fMRI_Data= fMRI_Data[5:39599]\n",
    "\n",
    "fMRI_label=[]\n",
    "\n",
    "for i in range(len(fMRI_Data)):\n",
    "       \n",
    "        \n",
    "    if i % 6==5:\n",
    "        fMRI_label.append(fMRI_Data[i,:]) \n",
    "        \n",
    "      \n",
    "fMRI_label6= np.array(fMRI_label)"
   ]
  },
  {
   "cell_type": "code",
   "execution_count": 97,
   "metadata": {},
   "outputs": [
    {
     "data": {
      "text/plain": [
       "(6599, 444)"
      ]
     },
     "execution_count": 97,
     "metadata": {},
     "output_type": "execute_result"
    }
   ],
   "source": [
    "fMRI_label6.shape"
   ]
  },
  {
   "cell_type": "code",
   "execution_count": 100,
   "metadata": {},
   "outputs": [],
   "source": [
    "np.save('Xx6.npy', Xx6)\n",
    "np.save('fMRI_label6.npy', fMRI_label6)"
   ]
  },
  {
   "cell_type": "code",
   "execution_count": null,
   "metadata": {},
   "outputs": [],
   "source": []
  },
  {
   "cell_type": "code",
   "execution_count": null,
   "metadata": {},
   "outputs": [],
   "source": [
    "#####################################################33"
   ]
  },
  {
   "cell_type": "code",
   "execution_count": null,
   "metadata": {},
   "outputs": [],
   "source": []
  }
 ],
 "metadata": {
  "kernelspec": {
   "display_name": "Python 3",
   "language": "python",
   "name": "python3"
  },
  "language_info": {
   "codemirror_mode": {
    "name": "ipython",
    "version": 3
   },
   "file_extension": ".py",
   "mimetype": "text/x-python",
   "name": "python",
   "nbconvert_exporter": "python",
   "pygments_lexer": "ipython3",
   "version": "3.7.3"
  },
  "toc": {
   "base_numbering": 1,
   "nav_menu": {},
   "number_sections": true,
   "sideBar": true,
   "skip_h1_title": false,
   "title_cell": "Table of Contents",
   "title_sidebar": "Contents",
   "toc_cell": false,
   "toc_position": {},
   "toc_section_display": true,
   "toc_window_display": false
  }
 },
 "nbformat": 4,
 "nbformat_minor": 2
}
